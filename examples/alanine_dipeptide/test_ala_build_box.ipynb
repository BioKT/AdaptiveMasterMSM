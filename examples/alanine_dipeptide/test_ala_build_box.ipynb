{
 "cells": [
  {
   "cell_type": "code",
   "execution_count": 1,
   "metadata": {},
   "outputs": [],
   "source": [
    "from adaptivemastermsm import controller"
   ]
  },
  {
   "cell_type": "code",
   "execution_count": 2,
   "metadata": {},
   "outputs": [],
   "source": [
    "con = controller.Controller()\n",
    "con.runner('Equilibration')"
   ]
  },
  {
   "cell_type": "code",
   "execution_count": 3,
   "metadata": {},
   "outputs": [],
   "source": [
    "from adaptivemastermsm.system import system"
   ]
  },
  {
   "cell_type": "code",
   "execution_count": 4,
   "metadata": {},
   "outputs": [],
   "source": [
    "alaTB = system.System('logs/alaTB.gro', forcefield='amber03', water='tip3p')"
   ]
  },
  {
   "cell_type": "code",
   "execution_count": 5,
   "metadata": {},
   "outputs": [
    {
     "name": "stdout",
     "output_type": "stream",
     "text": [
      "gmx pdb2gmx -f logs/alaTB.gro -o conf.gro -p topol -ff amber03 -water tip3p\n"
     ]
    }
   ],
   "source": [
    "alaTB.gen_top()"
   ]
  },
  {
   "cell_type": "code",
   "execution_count": 6,
   "metadata": {},
   "outputs": [
    {
     "name": "stdout",
     "output_type": "stream",
     "text": [
      "1.0\n",
      "gmx editconf -f conf.gro -o conf_edit.gro -c -d 1.000000 -bt cubic\n"
     ]
    }
   ],
   "source": [
    "# note parameter 'd' should be passed through controller.run['box_size']\n",
    "dist = con.run['box_size']\n",
    "print(dist)\n",
    "alaTB.build_box(d=dist)"
   ]
  },
  {
   "cell_type": "code",
   "execution_count": 7,
   "metadata": {},
   "outputs": [
    {
     "name": "stdout",
     "output_type": "stream",
     "text": [
      "gmx solvate -cp conf_edit.gro -cs spc216.gro -p topol.top -o conf_solv.gro\n"
     ]
    }
   ],
   "source": [
    "alaTB.solvate()"
   ]
  },
  {
   "cell_type": "code",
   "execution_count": 8,
   "metadata": {},
   "outputs": [
    {
     "data": {
      "text/plain": [
       "'conf.gro'"
      ]
     },
     "execution_count": 8,
     "metadata": {},
     "output_type": "execute_result"
    }
   ],
   "source": [
    "alaTB.gro"
   ]
  },
  {
   "cell_type": "code",
   "execution_count": 9,
   "metadata": {},
   "outputs": [
    {
     "name": "stdout",
     "output_type": "stream",
     "text": [
      "0 0\n"
     ]
    },
    {
     "ename": "TypeError",
     "evalue": "unsupported operand type(s) for &: 'str' and 'str'",
     "output_type": "error",
     "traceback": [
      "\u001b[0;31m---------------------------------------------------------------------------\u001b[0m",
      "\u001b[0;31mTypeError\u001b[0m                                 Traceback (most recent call last)",
      "\u001b[0;32m<ipython-input-9-7ee7323ecc69>\u001b[0m in \u001b[0;36m<module>\u001b[0;34m\u001b[0m\n\u001b[1;32m      2\u001b[0m \u001b[0mcat\u001b[0m \u001b[0;34m=\u001b[0m \u001b[0mcon\u001b[0m\u001b[0;34m.\u001b[0m\u001b[0mrun\u001b[0m\u001b[0;34m[\u001b[0m\u001b[0;34m'Na'\u001b[0m\u001b[0;34m]\u001b[0m\u001b[0;34m\u001b[0m\u001b[0;34m\u001b[0m\u001b[0m\n\u001b[1;32m      3\u001b[0m \u001b[0mprint\u001b[0m\u001b[0;34m(\u001b[0m\u001b[0man\u001b[0m\u001b[0;34m,\u001b[0m\u001b[0mcat\u001b[0m\u001b[0;34m)\u001b[0m\u001b[0;34m\u001b[0m\u001b[0;34m\u001b[0m\u001b[0m\n\u001b[0;32m----> 4\u001b[0;31m \u001b[0malaTB\u001b[0m\u001b[0;34m.\u001b[0m\u001b[0mionize\u001b[0m\u001b[0;34m(\u001b[0m\u001b[0manion\u001b[0m\u001b[0;34m=\u001b[0m\u001b[0man\u001b[0m\u001b[0;34m,\u001b[0m \u001b[0mcation\u001b[0m\u001b[0;34m=\u001b[0m\u001b[0mcat\u001b[0m\u001b[0;34m)\u001b[0m\u001b[0;34m\u001b[0m\u001b[0;34m\u001b[0m\u001b[0m\n\u001b[0m",
      "\u001b[0;32m~/Programs/Adaptive_sampling/AdaptiveMasterMSM/adaptivemastermsm/system/system.py\u001b[0m in \u001b[0;36mionize\u001b[0;34m(self, anion, cation, inp, out)\u001b[0m\n\u001b[1;32m    106\u001b[0m         \u001b[0mmdpfile\u001b[0m \u001b[0;34m=\u001b[0m \u001b[0mself\u001b[0m\u001b[0;34m.\u001b[0m\u001b[0mwrite_minimization_mdp\u001b[0m\u001b[0;34m(\u001b[0m\u001b[0;34m)\u001b[0m\u001b[0;34m\u001b[0m\u001b[0;34m\u001b[0m\u001b[0m\n\u001b[1;32m    107\u001b[0m         \u001b[0mcmd\u001b[0m \u001b[0;34m=\u001b[0m \u001b[0;34m'gmx grompp -f %s -c %s -p topol.top -o ions.tpr'\u001b[0m \u001b[0;34m%\u001b[0m \u001b[0;34m(\u001b[0m\u001b[0mmdpfile\u001b[0m\u001b[0;34m,\u001b[0m \u001b[0minp\u001b[0m\u001b[0;34m)\u001b[0m \u001b[0;34m&\u001b[0m\u001b[0;31m\\\u001b[0m\u001b[0;34m\u001b[0m\u001b[0;34m\u001b[0m\u001b[0m\n\u001b[0;32m--> 108\u001b[0;31m         \u001b[0;34m'gmx genion -s ions.tpr -o %s -p topol.top %s'\u001b[0m \u001b[0;34m%\u001b[0m \u001b[0;34m(\u001b[0m\u001b[0mout\u001b[0m\u001b[0;34m,\u001b[0m \u001b[0mion_str\u001b[0m\u001b[0;34m)\u001b[0m\u001b[0;34m\u001b[0m\u001b[0;34m\u001b[0m\u001b[0m\n\u001b[0m\u001b[1;32m    109\u001b[0m         \u001b[0mprint\u001b[0m\u001b[0;34m(\u001b[0m\u001b[0;34m\" running: \"\u001b[0m\u001b[0;34m,\u001b[0m\u001b[0mcmd\u001b[0m\u001b[0;34m)\u001b[0m\u001b[0;34m\u001b[0m\u001b[0;34m\u001b[0m\u001b[0m\n\u001b[1;32m    110\u001b[0m         \u001b[0mp\u001b[0m \u001b[0;34m=\u001b[0m \u001b[0msubprocess\u001b[0m\u001b[0;34m.\u001b[0m\u001b[0mPopen\u001b[0m\u001b[0;34m(\u001b[0m\u001b[0mshlex\u001b[0m\u001b[0;34m.\u001b[0m\u001b[0msplit\u001b[0m\u001b[0;34m(\u001b[0m\u001b[0mcmd\u001b[0m\u001b[0;34m)\u001b[0m\u001b[0;34m,\u001b[0m \u001b[0mstdout\u001b[0m\u001b[0;34m=\u001b[0m\u001b[0msubprocess\u001b[0m\u001b[0;34m.\u001b[0m\u001b[0mPIPE\u001b[0m\u001b[0;34m,\u001b[0m \u001b[0mstderr\u001b[0m\u001b[0;34m=\u001b[0m\u001b[0msubprocess\u001b[0m\u001b[0;34m.\u001b[0m\u001b[0mPIPE\u001b[0m\u001b[0;34m)\u001b[0m\u001b[0;34m\u001b[0m\u001b[0;34m\u001b[0m\u001b[0m\n",
      "\u001b[0;31mTypeError\u001b[0m: unsupported operand type(s) for &: 'str' and 'str'"
     ]
    }
   ],
   "source": [
    "an = con.run['Cl']\n",
    "cat = con.run['Na']\n",
    "print(an,cat)\n",
    "alaTB.ionize(anion=an, cation=cat)"
   ]
  },
  {
   "cell_type": "code",
   "execution_count": 10,
   "metadata": {},
   "outputs": [
    {
     "name": "stdout",
     "output_type": "stream",
     "text": [
      " running:  gmx grompp -f data/minimization.mdp -c conf_solv_ions.gro -p topol.top -o minimization\n"
     ]
    },
    {
     "data": {
      "text/plain": [
       "(b'',\n",
       " b\"              :-) GROMACS - gmx grompp, 2020.1-Ubuntu-2020.1-1 (-:\\n\\n                            GROMACS is written by:\\n     Emile Apol      Rossen Apostolov      Paul Bauer     Herman J.C. Berendsen\\n    Par Bjelkmar      Christian Blau   Viacheslav Bolnykh     Kevin Boyd    \\n Aldert van Buuren   Rudi van Drunen     Anton Feenstra       Alan Gray     \\n  Gerrit Groenhof     Anca Hamuraru    Vincent Hindriksen  M. Eric Irrgang  \\n  Aleksei Iupinov   Christoph Junghans     Joe Jordan     Dimitrios Karkoulis\\n    Peter Kasson        Jiri Kraus      Carsten Kutzner      Per Larsson    \\n  Justin A. Lemkul    Viveca Lindahl    Magnus Lundborg     Erik Marklund   \\n    Pascal Merz     Pieter Meulenhoff    Teemu Murtola       Szilard Pall   \\n    Sander Pronk      Roland Schulz      Michael Shirts    Alexey Shvetsov  \\n   Alfons Sijbers     Peter Tieleman      Jon Vincent      Teemu Virolainen \\n Christian Wennberg    Maarten Wolf      Artem Zhmurov   \\n                           and the project leaders:\\n        Mark Abraham, Berk Hess, Erik Lindahl, and David van der Spoel\\n\\nCopyright (c) 1991-2000, University of Groningen, The Netherlands.\\nCopyright (c) 2001-2019, The GROMACS development team at\\nUppsala University, Stockholm University and\\nthe Royal Institute of Technology, Sweden.\\ncheck out http://www.gromacs.org for more information.\\n\\nGROMACS is free software; you can redistribute it and/or modify it\\nunder the terms of the GNU Lesser General Public License\\nas published by the Free Software Foundation; either version 2.1\\nof the License, or (at your option) any later version.\\n\\nGROMACS:      gmx grompp, version 2020.1-Ubuntu-2020.1-1\\nExecutable:   /usr/bin/gmx\\nData prefix:  /usr\\nWorking dir:  /home/imitxelena003/Programs/Adaptive_sampling/AdaptiveMasterMSM/examples/alanine_dipeptide\\nCommand line:\\n  gmx grompp -f data/minimization.mdp -c conf_solv_ions.gro -p topol.top -o minimization\\n\\n\\n-------------------------------------------------------\\nProgram:     gmx grompp, version 2020.1-Ubuntu-2020.1-1\\nSource file: src/gromacs/commandline/cmdlineparser.cpp (line 275)\\nFunction:    void gmx::CommandLineParser::parse(int*, char**)\\n\\nError in user input:\\nInvalid command-line options\\n  In command-line option -c\\n    File 'conf_solv_ions.gro' does not exist or is not accessible.\\n    The file could not be opened.\\n      Reason: No such file or directory\\n      (call to fopen() returned error code 2)\\n\\nFor more information and tips for troubleshooting, please check the GROMACS\\nwebsite at http://www.gromacs.org/Documentation/Errors\\n-------------------------------------------------------\\n\")"
      ]
     },
     "execution_count": 10,
     "metadata": {},
     "output_type": "execute_result"
    }
   ],
   "source": [
    "alaTB.minimize()"
   ]
  },
  {
   "cell_type": "code",
   "execution_count": null,
   "metadata": {},
   "outputs": [],
   "source": []
  }
 ],
 "metadata": {
  "kernelspec": {
   "display_name": "Python 3",
   "language": "python",
   "name": "python3"
  },
  "language_info": {
   "codemirror_mode": {
    "name": "ipython",
    "version": 3
   },
   "file_extension": ".py",
   "mimetype": "text/x-python",
   "name": "python",
   "nbconvert_exporter": "python",
   "pygments_lexer": "ipython3",
   "version": "3.7.6"
  }
 },
 "nbformat": 4,
 "nbformat_minor": 4
}
