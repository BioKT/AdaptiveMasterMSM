{
 "cells": [
  {
   "cell_type": "markdown",
   "metadata": {},
   "source": [
    "# AdaptiveMasterMSM: Prepare a simulation by using Gromacs\n",
    "The aim of this notebook is to show that just calling class Controller we are able to do all the stuff done in the notebook called 'test_ala_functions.ipynb'"
   ]
  },
  {
   "cell_type": "code",
   "execution_count": 1,
   "metadata": {},
   "outputs": [],
   "source": [
    "from adaptivemastermsm.system import system"
   ]
  },
  {
   "cell_type": "code",
   "execution_count": 2,
   "metadata": {},
   "outputs": [
    {
     "name": "stdout",
     "output_type": "stream",
     "text": [
      "b'/usr/bin/gmx\\n'\n"
     ]
    }
   ],
   "source": [
    "system.check_gmx()"
   ]
  },
  {
   "cell_type": "markdown",
   "metadata": {},
   "source": [
    "We invoke **Controller** class for doing, first, the preparation of the simulation box, and then, obtaining corresponding thermodynamic ensemble."
   ]
  },
  {
   "cell_type": "code",
   "execution_count": 3,
   "metadata": {},
   "outputs": [],
   "source": [
    "from adaptivemastermsm import controller"
   ]
  },
  {
   "cell_type": "code",
   "execution_count": 4,
   "metadata": {},
   "outputs": [
    {
     "name": "stdout",
     "output_type": "stream",
     "text": [
      "gmx pdb2gmx -f data/0_67.gro -o data/0_67.gro -p topol.top -ff amber03 -water tip3p\n",
      "gmx editconf -f data/0_67.gro -o conf_edit.gro -c -d 1.000000 -bt cubic\n",
      "gmx solvate -cp conf_edit.gro -cs spc216.gro -p topol.top -o conf_solv.gro\n",
      "gmx grompp -f data/minimization.mdp -c conf_solv.gro -p topol.top -o ions.tpr\n",
      "gmx genion -s ions.tpr -o conf_solv_ions.gro -p topol.top -neutral\n"
     ]
    }
   ],
   "source": [
    "con = controller.Controller('data/0_67.gro', trajfiles=['data/0_67.xtc'], tprs=['data/npt.tpr'], forcefield='amber03', water='tip3p')"
   ]
  },
  {
   "cell_type": "code",
   "execution_count": null,
   "metadata": {},
   "outputs": [
    {
     "name": "stdout",
     "output_type": "stream",
     "text": [
      "['data/0_67.xtc']\n",
      "data/0_67.xtc <class 'str'>\n",
      "\n",
      " Building MSM from \n",
      " ['data/0_67.xtc']\n",
      "     # states: 2\n",
      "MSM done\n",
      "Runs for new epoch: [1 1]\n",
      "Building entry for microstate 1\n",
      "1 <mdtraj.Trajectory with 501 frames, 19 atoms, 3 residues, and unitcells> 472 0\n",
      "1 <mdtraj.Trajectory with 501 frames, 19 atoms, 3 residues, and unitcells> 149 0\n",
      "gmx pdb2gmx -f 1_472.gro -o 1_472.gro -p topol.top -ff amber03 -water tip3p\n",
      "gmx editconf -f 1_472.gro -o conf_edit.gro -c -d 1.000000 -bt cubic\n",
      "gmx solvate -cp conf_edit.gro -cs spc216.gro -p topol.top -o conf_solv.gro\n",
      "gmx grompp -f data/minimization.mdp -c conf_solv.gro -p topol.top -o ions.tpr\n",
      "gmx genion -s ions.tpr -o conf_solv_ions.gro -p topol.top -neutral\n",
      "gmx grompp -c conf_solv_ions.gro -p topol.top -f data/mdp/min.mdp -o data/minim.tpr -r conf_solv_ions.gro\n",
      "gmx mdrun -v -s data/minim.tpr -deffnm data/minim\n",
      "gmx grompp -c data/minim.gro -p topol.top -f data/mdp/nvt.mdp -o data/posre.tpr -r data/minim.gro\n",
      "gmx mdrun -v -s data/posre.tpr -deffnm data/posre\n",
      "gmx grompp -c data/posre.gro -p topol.top -f data/mdp/npt.mdp -o data/npt.tpr -r data/posre.gro\n",
      "gmx mdrun -v -s data/npt.tpr -deffnm data/npt\n",
      "gmx grompp -c data/npt.gro -p topol.top -f data/mdp/prod.mdp -o data/tpr/1.tpr -r data/npt.gro\n",
      "gmx pdb2gmx -f 1_149.gro -o 1_149.gro -p topol.top -ff amber03 -water tip3p\n",
      "gmx editconf -f 1_149.gro -o conf_edit.gro -c -d 1.000000 -bt cubic\n",
      "gmx solvate -cp conf_edit.gro -cs spc216.gro -p topol.top -o conf_solv.gro\n",
      "gmx grompp -f data/minimization.mdp -c conf_solv.gro -p topol.top -o ions.tpr\n",
      "gmx genion -s ions.tpr -o conf_solv_ions.gro -p topol.top -neutral\n",
      "gmx grompp -c conf_solv_ions.gro -p topol.top -f data/mdp/min.mdp -o data/minim.tpr -r conf_solv_ions.gro\n",
      "gmx mdrun -v -s data/minim.tpr -deffnm data/minim\n",
      "gmx grompp -c data/minim.gro -p topol.top -f data/mdp/nvt.mdp -o data/posre.tpr -r data/minim.gro\n",
      "gmx mdrun -v -s data/posre.tpr -deffnm data/posre\n",
      "gmx grompp -c data/posre.gro -p topol.top -f data/mdp/npt.mdp -o data/npt.tpr -r data/posre.gro\n",
      "gmx mdrun -v -s data/npt.tpr -deffnm data/npt\n",
      "gmx grompp -c data/npt.gro -p topol.top -f data/mdp/prod.mdp -o data/tpr/2.tpr -r data/npt.gro\n",
      "['data/out/1', 'data/out/2']\n",
      "gmx mdrun -v -s data/tpr/2.tpr -deffnm data/out/1\n",
      "gmx mdrun -v -s data/tpr/1.tpr -deffnm data/out/1\n",
      "gmx mdrun -v -s data/tpr/1.tpr -deffnm data/out/2\n",
      "gmx mdrun -v -s data/tpr/2.tpr -deffnm data/out/2\n"
     ]
    }
   ],
   "source": [
    "con.adaptive_sampling(2, 10, mcs=80, ms=60, sym=False, rate_mat=False)"
   ]
  },
  {
   "cell_type": "code",
   "execution_count": null,
   "metadata": {},
   "outputs": [],
   "source": []
  },
  {
   "cell_type": "code",
   "execution_count": null,
   "metadata": {},
   "outputs": [],
   "source": []
  }
 ],
 "metadata": {
  "kernelspec": {
   "display_name": "Python 3",
   "language": "python",
   "name": "python3"
  },
  "language_info": {
   "codemirror_mode": {
    "name": "ipython",
    "version": 3
   },
   "file_extension": ".py",
   "mimetype": "text/x-python",
   "name": "python",
   "nbconvert_exporter": "python",
   "pygments_lexer": "ipython3",
   "version": "3.7.6"
  }
 },
 "nbformat": 4,
 "nbformat_minor": 4
}
