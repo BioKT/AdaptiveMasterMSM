{
 "cells": [
  {
   "cell_type": "markdown",
   "metadata": {},
   "source": [
    "# AdaptiveMasterMSM: Prepare a simulation by using Gromacs\n",
    "The aim of this notebook is to show that just calling class Controller we are able to do all the stuff done in the notebook called 'test_ala_functions.ipynb'"
   ]
  },
  {
   "cell_type": "code",
   "execution_count": 1,
   "metadata": {},
   "outputs": [],
   "source": [
    "from adaptivemastermsm.system import system"
   ]
  },
  {
   "cell_type": "code",
   "execution_count": 2,
   "metadata": {},
   "outputs": [
    {
     "name": "stdout",
     "output_type": "stream",
     "text": [
      "b'/usr/bin/gmx\\n'\n"
     ]
    }
   ],
   "source": [
    "system.check_gmx()"
   ]
  },
  {
   "cell_type": "markdown",
   "metadata": {},
   "source": [
    "We invoke **Controller** class for doing, first, the preparation of the simulation box, and then, obtaining corresponding thermodynamic ensemble."
   ]
  },
  {
   "cell_type": "code",
   "execution_count": 3,
   "metadata": {},
   "outputs": [],
   "source": [
    "from adaptivemastermsm import controller"
   ]
  },
  {
   "cell_type": "code",
   "execution_count": 4,
   "metadata": {},
   "outputs": [
    {
     "name": "stdout",
     "output_type": "stream",
     "text": [
      "gmx pdb2gmx -f data/alaTB.gro -o data/alaTB.gro -p topol.top -ff amber03 -water tip3p\n",
      "gmx editconf -f data/alaTB.gro -o conf_edit.gro -c -d 1.000000 -bt cubic\n",
      "gmx solvate -cp conf_edit.gro -cs spc216.gro -p topol.gro -o conf_solv.gro\n",
      "gmx grompp -f data/minimization.mdp -c conf_solv.gro -p topol.gro -o ions.tpr\n",
      "gmx genion -s ions.tpr -o conf_solv_ions.gro -p topol.gro -neutral\n",
      "gmx grompp -c conf_solv_ions.gro -p topol.top -f data/mdp/min.mdp -o data/minim.tpr -r conf_solv_ions.gro\n",
      "gmx mdrun -v -s data/minim.tpr -deffnm data/minim\n",
      "gmx grompp -c data/minim.gro -p topol.top -f data/mdp/nvt.mdp -o data/posre.tpr -r data/minim.gro\n",
      "gmx mdrun -v -s data/posre.tpr -deffnm data/posre\n",
      "gmx grompp -c data/posre.gro -p topol.top -f data/mdp/npt.mdp -o data/npt.tpr -r data/posre.gro\n",
      "gmx mdrun -v -s data/npt.tpr -deffnm data/npt\n"
     ]
    }
   ],
   "source": [
    "con = controller.Controller('data/alaTB.gro', forcefield='amber03', water='tip3p')"
   ]
  },
  {
   "cell_type": "code",
   "execution_count": null,
   "metadata": {},
   "outputs": [],
   "source": []
  }
 ],
 "metadata": {
  "kernelspec": {
   "display_name": "Python 3",
   "language": "python",
   "name": "python3"
  },
  "language_info": {
   "codemirror_mode": {
    "name": "ipython",
    "version": 3
   },
   "file_extension": ".py",
   "mimetype": "text/x-python",
   "name": "python",
   "nbconvert_exporter": "python",
   "pygments_lexer": "ipython3",
   "version": "3.7.6"
  }
 },
 "nbformat": 4,
 "nbformat_minor": 4
}
