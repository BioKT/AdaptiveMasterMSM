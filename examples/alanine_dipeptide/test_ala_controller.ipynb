{
 "cells": [
  {
   "cell_type": "markdown",
   "metadata": {},
   "source": [
    "# Using AdaptiveMasterMSM to run Gromacs\n",
    "A **gro** file corresponding to alanine dipeptide is employed as example. Below the equilibration of the system is done automatically by the class Controller. Controller is also subsequently employed to run a typical MD simulation by using Gromacs."
   ]
  },
  {
   "cell_type": "code",
   "execution_count": 1,
   "metadata": {},
   "outputs": [],
   "source": [
    "from adaptivemastermsm import controller"
   ]
  },
  {
   "cell_type": "markdown",
   "metadata": {},
   "source": [
    "We invoke **Controller** class for the **Equilibration** step, since later this will be used for production."
   ]
  },
  {
   "cell_type": "code",
   "execution_count": 3,
   "metadata": {},
   "outputs": [],
   "source": [
    "con = controller.Controller()\n",
    "con.run_parameters('Equilibration')"
   ]
  },
  {
   "cell_type": "code",
   "execution_count": 6,
   "metadata": {},
   "outputs": [
    {
     "name": "stdout",
     "output_type": "stream",
     "text": [
      "gmx pdb2gmx -f alaTB.gro -o alaTB.gro -p topol.top -ff amber03 -water tip3p\n",
      "gmx editconf -f alaTB.gro -o conf_edit.gro -c -d 1.000000 -bt cubic\n",
      "gmx solvate -cp conf_edit.gro -cs spc216.gro -p topol.top -o conf_solv.gro\n",
      "gmx grompp -f minimization.mdp -c conf_solv.gro -p topol.top -o minimization; gmx mdrun -v -s minimization -x minimization.xtc -deffnm minimization\n",
      "gmx grompp -f nvt.mdp -c minimization.gro -r minimization.gro -p topol.top -o nvt.tpr; gmx mdrun -v -s nvt.tpr -deffnm nvt\n",
      "gmx grompp -f npt.mdp -c nvt.gro -r nvt.gro -t nvt.cpt -p topol.top -o npt.tpr; gmx mdrun -v -s npt.tpr -deffnm npt\n"
     ]
    }
   ],
   "source": [
    "# Note nvt.mdp and npt.mdp files must be in the working directory\n",
    "# before this step\n",
    "con.sys_equilibration('alaTB.gro', forcefield='amber03', water='tip3p')"
   ]
  },
  {
   "cell_type": "markdown",
   "metadata": {},
   "source": [
    "Once the simulation box is generated, the overall system is equilibrated, and a thermodynamically stable ensemble is obtained, we proceed to run the simulation."
   ]
  },
  {
   "cell_type": "code",
   "execution_count": 4,
   "metadata": {},
   "outputs": [],
   "source": [
    "con.run_parameters('Production')"
   ]
  },
  {
   "cell_type": "code",
   "execution_count": 5,
   "metadata": {},
   "outputs": [
    {
     "name": "stdout",
     "output_type": "stream",
     "text": [
      "gmx grompp -c data/gro/processed/0.gro -p data/top/processed/0.top -f data/mdp/0.mdp -t npt.cpt -o data/tpr/0.tpr -maxwarn 1\n",
      "gmx mdrun -v -s data/tpr/0.tpr -deffnm data/gro/processed/0.gro\n",
      "out: b'' err: b\"              :-) GROMACS - gmx mdrun, 2020.1-Ubuntu-2020.1-1 (-:\\n\\n                            GROMACS is written by:\\n     Emile Apol      Rossen Apostolov      Paul Bauer     Herman J.C. Berendsen\\n    Par Bjelkmar      Christian Blau   Viacheslav Bolnykh     Kevin Boyd    \\n Aldert van Buuren   Rudi van Drunen     Anton Feenstra       Alan Gray     \\n  Gerrit Groenhof     Anca Hamuraru    Vincent Hindriksen  M. Eric Irrgang  \\n  Aleksei Iupinov   Christoph Junghans     Joe Jordan     Dimitrios Karkoulis\\n    Peter Kasson        Jiri Kraus      Carsten Kutzner      Per Larsson    \\n  Justin A. Lemkul    Viveca Lindahl    Magnus Lundborg     Erik Marklund   \\n    Pascal Merz     Pieter Meulenhoff    Teemu Murtola       Szilard Pall   \\n    Sander Pronk      Roland Schulz      Michael Shirts    Alexey Shvetsov  \\n   Alfons Sijbers     Peter Tieleman      Jon Vincent      Teemu Virolainen \\n Christian Wennberg    Maarten Wolf      Artem Zhmurov   \\n                           and the project leaders:\\n        Mark Abraham, Berk Hess, Erik Lindahl, and David van der Spoel\\n\\nCopyright (c) 1991-2000, University of Groningen, The Netherlands.\\nCopyright (c) 2001-2019, The GROMACS development team at\\nUppsala University, Stockholm University and\\nthe Royal Institute of Technology, Sweden.\\ncheck out http://www.gromacs.org for more information.\\n\\nGROMACS is free software; you can redistribute it and/or modify it\\nunder the terms of the GNU Lesser General Public License\\nas published by the Free Software Foundation; either version 2.1\\nof the License, or (at your option) any later version.\\n\\nGROMACS:      gmx mdrun, version 2020.1-Ubuntu-2020.1-1\\nExecutable:   /usr/bin/gmx\\nData prefix:  /usr\\nWorking dir:  /home/imitxelena003/Programs/Adaptive_sampling/AdaptiveMasterMSM/examples/alanine_dipeptide/prueba\\nCommand line:\\n  gmx mdrun -v -s data/tpr/0.tpr -deffnm data/gro/processed/0.gro\\n\\nCompiled SIMD: SSE2, but for this host/run AVX2_256 might be better (see log).\\nThe current CPU can measure timings more accurately than the code in\\ngmx mdrun was configured to use. This might affect your simulation\\nspeed as accurate timings are needed for load-balancing.\\nPlease consider rebuilding gmx mdrun with the GMX_USE_RDTSCP=ON CMake option.\\nReading file data/tpr/0.tpr, VERSION 2020.1-Ubuntu-2020.1-1 (single precision)\\n\\nUsing 1 MPI thread\\n\\nNon-default thread affinity set, disabling internal thread affinity\\n\\nUsing 4 OpenMP threads \\n\\nstarting mdrun 'Green Red Orange Magenta Azure Cyan Skyblue in water'\\n500 steps,      1.0 ps.\\n\\rstep 0\\nstep 12: One or more water molecules can not be settled.\\nCheck for bad contacts and/or reduce the timestep if appropriate.\\nWrote pdb files with previous and current coordinates\\n\"\n",
      "Cleaning up...\n"
     ]
    }
   ],
   "source": [
    "con.sys_production('alaTB.gro', 'amber03', 'tip3p')"
   ]
  },
  {
   "cell_type": "code",
   "execution_count": null,
   "metadata": {},
   "outputs": [],
   "source": []
  }
 ],
 "metadata": {
  "kernelspec": {
   "display_name": "Python 3",
   "language": "python",
   "name": "python3"
  },
  "language_info": {
   "codemirror_mode": {
    "name": "ipython",
    "version": 3
   },
   "file_extension": ".py",
   "mimetype": "text/x-python",
   "name": "python",
   "nbconvert_exporter": "python",
   "pygments_lexer": "ipython3",
   "version": "3.7.6"
  }
 },
 "nbformat": 4,
 "nbformat_minor": 4
}
