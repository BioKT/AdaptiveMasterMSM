{
 "cells": [
  {
   "cell_type": "markdown",
   "metadata": {},
   "source": [
    "# Using AdaptiveMasterMSM to run Gromacs\n",
    "A **gro** file corresponding to alanine dipeptide is employed as example"
   ]
  },
  {
   "cell_type": "code",
   "execution_count": 1,
   "metadata": {},
   "outputs": [],
   "source": [
    "from adaptivemastermsm import controller"
   ]
  },
  {
   "cell_type": "markdown",
   "metadata": {},
   "source": [
    "We invoke **Controller** class for the **Production** step, since previously the equilibration of the system was carried out."
   ]
  },
  {
   "cell_type": "code",
   "execution_count": 2,
   "metadata": {},
   "outputs": [],
   "source": [
    "con = controller.Controller()\n",
    "con.run_parameters('Production')"
   ]
  },
  {
   "cell_type": "code",
   "execution_count": 3,
   "metadata": {},
   "outputs": [],
   "source": [
    "from adaptivemastermsm.launcher import launcher"
   ]
  },
  {
   "cell_type": "markdown",
   "metadata": {},
   "source": [
    "**Launcher** class must be started to call **MDRUN** from **Gromacs**"
   ]
  },
  {
   "cell_type": "code",
   "execution_count": 4,
   "metadata": {},
   "outputs": [],
   "source": [
    "step = con.md_step\n",
    "alaTB = launcher.Launcher(step,'alaTB.gro','amber96','tip3p')"
   ]
  },
  {
   "cell_type": "code",
   "execution_count": 5,
   "metadata": {},
   "outputs": [
    {
     "name": "stdout",
     "output_type": "stream",
     "text": [
      "gmx grompp -c data/gro/processed/0.gro -p data/top/processed/0.top -f data/mdp/0.mdp -t npt.cpt -o data/tpr/0.tpr -maxwarn 1\n"
     ]
    }
   ],
   "source": [
    "mdp_parameters = con.run\n",
    "gro_files='npt.gro'\n",
    "top_files='topol.top'\n",
    "gmxinp = alaTB.inputs(gro_files,top_all=top_files,chk='npt.cpt',mdp_params=mdp_parameters)"
   ]
  },
  {
   "cell_type": "code",
   "execution_count": 6,
   "metadata": {},
   "outputs": [
    {
     "name": "stdout",
     "output_type": "stream",
     "text": [
      "gmx mdrun -v -s data/tpr/0.tpr -deffnm data/gro/processed/0.gro\n",
      "out: b'' err: b'              :-) GROMACS - gmx mdrun, 2020.1-Ubuntu-2020.1-1 (-:\\n\\n                            GROMACS is written by:\\n     Emile Apol      Rossen Apostolov      Paul Bauer     Herman J.C. Berendsen\\n    Par Bjelkmar      Christian Blau   Viacheslav Bolnykh     Kevin Boyd    \\n Aldert van Buuren   Rudi van Drunen     Anton Feenstra       Alan Gray     \\n  Gerrit Groenhof     Anca Hamuraru    Vincent Hindriksen  M. Eric Irrgang  \\n  Aleksei Iupinov   Christoph Junghans     Joe Jordan     Dimitrios Karkoulis\\n    Peter Kasson        Jiri Kraus      Carsten Kutzner      Per Larsson    \\n  Justin A. Lemkul    Viveca Lindahl    Magnus Lundborg     Erik Marklund   \\n    Pascal Merz     Pieter Meulenhoff    Teemu Murtola       Szilard Pall   \\n    Sander Pronk      Roland Schulz      Michael Shirts    Alexey Shvetsov  \\n   Alfons Sijbers     Peter Tieleman      Jon Vincent      Teemu Virolainen \\n Christian Wennberg    Maarten Wolf      Artem Zhmurov   \\n                           and the project leaders:\\n        Mark Abraham, Berk Hess, Erik Lindahl, and David van der Spoel\\n\\nCopyright (c) 1991-2000, University of Groningen, The Netherlands.\\nCopyright (c) 2001-2019, The GROMACS development team at\\nUppsala University, Stockholm University and\\nthe Royal Institute of Technology, Sweden.\\ncheck out http://www.gromacs.org for more information.\\n\\nGROMACS is free software; you can redistribute it and/or modify it\\nunder the terms of the GNU Lesser General Public License\\nas published by the Free Software Foundation; either version 2.1\\nof the License, or (at your option) any later version.\\n\\nGROMACS:      gmx mdrun, version 2020.1-Ubuntu-2020.1-1\\nExecutable:   /usr/bin/gmx\\nData prefix:  /usr\\nWorking dir:  /home/imitxelena003/Programs/Adaptive_sampling/AdaptiveMasterMSM/examples/alanine_dipeptide\\nCommand line:\\n  gmx mdrun -v -s data/tpr/0.tpr -deffnm data/gro/processed/0.gro\\n\\n\\nBack Off! I just backed up data/gro/processed/0.gro.log to data/gro/processed/#0.gro.log.3#\\nCompiled SIMD: SSE2, but for this host/run AVX2_256 might be better (see log).\\nThe current CPU can measure timings more accurately than the code in\\ngmx mdrun was configured to use. This might affect your simulation\\nspeed as accurate timings are needed for load-balancing.\\nPlease consider rebuilding gmx mdrun with the GMX_USE_RDTSCP=ON CMake option.\\nReading file data/tpr/0.tpr, VERSION 2020.1-Ubuntu-2020.1-1 (single precision)\\n\\nUsing 1 MPI thread\\n\\nNon-default thread affinity set, disabling internal thread affinity\\n\\nUsing 4 OpenMP threads \\n\\n\\n-------------------------------------------------------\\nProgram:     gmx mdrun, version 2020.1-Ubuntu-2020.1-1\\nSource file: src/gromacs/mdlib/dispersioncorrection.cpp (line 397)\\n\\nFatal error:\\nWith dispersion correction rvdw-switch can not be zero for vdw-type = Cut-off\\n\\nFor more information and tips for troubleshooting, please check the GROMACS\\nwebsite at http://www.gromacs.org/Documentation/Errors\\n-------------------------------------------------------\\n'\n",
      "Cleaning up...\n"
     ]
    }
   ],
   "source": [
    "alaTB.runner(gmxinp)"
   ]
  },
  {
   "cell_type": "code",
   "execution_count": null,
   "metadata": {},
   "outputs": [],
   "source": []
  }
 ],
 "metadata": {
  "kernelspec": {
   "display_name": "Python 3",
   "language": "python",
   "name": "python3"
  },
  "language_info": {
   "codemirror_mode": {
    "name": "ipython",
    "version": 3
   },
   "file_extension": ".py",
   "mimetype": "text/x-python",
   "name": "python",
   "nbconvert_exporter": "python",
   "pygments_lexer": "ipython3",
   "version": "3.7.6"
  }
 },
 "nbformat": 4,
 "nbformat_minor": 4
}
