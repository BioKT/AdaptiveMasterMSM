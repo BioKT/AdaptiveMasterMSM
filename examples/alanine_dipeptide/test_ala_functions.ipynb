{
 "cells": [
  {
   "cell_type": "code",
   "execution_count": 1,
   "metadata": {},
   "outputs": [],
   "source": [
    "import os\n",
    "import copy\n",
    "import numpy as np\n",
    "import matplotlib.pyplot as plt\n",
    "import seaborn as sns\n",
    "sns.set(style=\"ticks\", color_codes=True, font_scale=1.5)\n",
    "sns.set_style({\"xtick.direction\": \"in\", \"ytick.direction\": \"in\"})"
   ]
  },
  {
   "cell_type": "markdown",
   "metadata": {},
   "source": [
    "### Use Gromacs to generate parameter files"
   ]
  },
  {
   "cell_type": "markdown",
   "metadata": {},
   "source": [
    "First we check the version of Gromacs available in our path"
   ]
  },
  {
   "cell_type": "code",
   "execution_count": 2,
   "metadata": {},
   "outputs": [],
   "source": [
    "from adaptivemastermsm.system import system"
   ]
  },
  {
   "cell_type": "code",
   "execution_count": 3,
   "metadata": {},
   "outputs": [
    {
     "name": "stdout",
     "output_type": "stream",
     "text": [
      "b'/usr/local/gromacs/2018.8/bin/gmx\\n'\n"
     ]
    }
   ],
   "source": [
    "system.check_gmx()"
   ]
  },
  {
   "cell_type": "markdown",
   "metadata": {},
   "source": [
    "Next we generate the alaTB system, which requires a `gro` or `pdb` file, a force field for generating the topology and a water model."
   ]
  },
  {
   "cell_type": "code",
   "execution_count": 4,
   "metadata": {},
   "outputs": [],
   "source": [
    "alaTB = system.System('data/alaTB.gro', forcefield='amber03', water='tip3p')"
   ]
  },
  {
   "cell_type": "code",
   "execution_count": 5,
   "metadata": {},
   "outputs": [
    {
     "data": {
      "text/plain": [
       "'amber03'"
      ]
     },
     "execution_count": 5,
     "metadata": {},
     "output_type": "execute_result"
    }
   ],
   "source": [
    "alaTB.ff"
   ]
  },
  {
   "cell_type": "code",
   "execution_count": 6,
   "metadata": {},
   "outputs": [
    {
     "data": {
      "text/plain": [
       "'tip3p'"
      ]
     },
     "execution_count": 6,
     "metadata": {},
     "output_type": "execute_result"
    }
   ],
   "source": [
    "alaTB.wat"
   ]
  },
  {
   "cell_type": "code",
   "execution_count": 7,
   "metadata": {},
   "outputs": [
    {
     "data": {
      "text/plain": [
       "'data/alaTB.gro'"
      ]
     },
     "execution_count": 7,
     "metadata": {},
     "output_type": "execute_result"
    }
   ],
   "source": [
    "alaTB.pdb"
   ]
  },
  {
   "cell_type": "markdown",
   "metadata": {},
   "source": [
    "To produce parameters for the force field selected we use the `gen_top()` method in the `System` class."
   ]
  },
  {
   "cell_type": "code",
   "execution_count": 8,
   "metadata": {},
   "outputs": [
    {
     "name": "stdout",
     "output_type": "stream",
     "text": [
      "gmx pdb2gmx -f data/alaTB.gro -o conf.gro -p topol.top -ff amber03 -water tip3p\n"
     ]
    }
   ],
   "source": [
    "alaTB.gen_top()"
   ]
  },
  {
   "cell_type": "code",
   "execution_count": 9,
   "metadata": {},
   "outputs": [
    {
     "data": {
      "text/plain": [
       "('conf.gro', 'topol.top')"
      ]
     },
     "execution_count": 9,
     "metadata": {},
     "output_type": "execute_result"
    }
   ],
   "source": [
    "alaTB.gro, alaTB.top"
   ]
  },
  {
   "cell_type": "markdown",
   "metadata": {},
   "source": [
    "### Setting up the simulation box\n",
    "Next we start building the simulation box for the system, which we do using additional methods in `System`. First we create the simulation box and then we solvate the protein with water."
   ]
  },
  {
   "cell_type": "code",
   "execution_count": 10,
   "metadata": {},
   "outputs": [
    {
     "name": "stdout",
     "output_type": "stream",
     "text": [
      "gmx editconf -f conf.gro -o conf_edit.gro -c -d 1.000000 -bt cubic\n"
     ]
    }
   ],
   "source": [
    "alaTB.build_box()"
   ]
  },
  {
   "cell_type": "markdown",
   "metadata": {},
   "source": [
    "As the simulation setup progresses the attributes of the alaTB class gradually update."
   ]
  },
  {
   "cell_type": "code",
   "execution_count": 11,
   "metadata": {},
   "outputs": [
    {
     "data": {
      "text/plain": [
       "'conf_edit.gro'"
      ]
     },
     "execution_count": 11,
     "metadata": {},
     "output_type": "execute_result"
    }
   ],
   "source": [
    "alaTB.gro"
   ]
  },
  {
   "cell_type": "code",
   "execution_count": 12,
   "metadata": {},
   "outputs": [
    {
     "name": "stdout",
     "output_type": "stream",
     "text": [
      "gmx solvate -cp conf_edit.gro -cs spc216.gro -p topol.top -o conf_solv.gro\n"
     ]
    }
   ],
   "source": [
    "alaTB.solvate()"
   ]
  },
  {
   "cell_type": "code",
   "execution_count": 13,
   "metadata": {},
   "outputs": [
    {
     "data": {
      "text/plain": [
       "'conf_solv.gro'"
      ]
     },
     "execution_count": 13,
     "metadata": {},
     "output_type": "execute_result"
    }
   ],
   "source": [
    "alaTB.gro"
   ]
  },
  {
   "cell_type": "markdown",
   "metadata": {},
   "source": [
    "We can additionally add ions. For this we can define a target concentration or simply neutralize the simulation box. In this case we simply leave the default options (neutralize), which does not add any ions."
   ]
  },
  {
   "cell_type": "code",
   "execution_count": 14,
   "metadata": {},
   "outputs": [
    {
     "name": "stdout",
     "output_type": "stream",
     "text": [
      "gmx grompp -f data/minimization.mdp -c conf_solv.gro -p topol.top -o ions.tpr\n",
      "gmx genion -s ions.tpr -o conf_solv_ions.gro -p topol.top -neutral\n"
     ]
    }
   ],
   "source": [
    "alaTB.ionize()"
   ]
  },
  {
   "cell_type": "code",
   "execution_count": 15,
   "metadata": {},
   "outputs": [
    {
     "data": {
      "text/plain": [
       "'conf_solv_ions.gro'"
      ]
     },
     "execution_count": 15,
     "metadata": {},
     "output_type": "execute_result"
    }
   ],
   "source": [
    "alaTB.gro"
   ]
  },
  {
   "cell_type": "markdown",
   "metadata": {},
   "source": [
    "### Equilibration\n",
    "Now that we have our simulation box ready, we can start running the equilibration of the system. The first step is an energy minimization. For this we invoke the `Launcher` class for this specific type of run."
   ]
  },
  {
   "cell_type": "code",
   "execution_count": 16,
   "metadata": {},
   "outputs": [],
   "source": [
    "from adaptivemastermsm.launcher import launcher"
   ]
  },
  {
   "cell_type": "markdown",
   "metadata": {},
   "source": [
    "In this case we are running a minimization; for this we need the `minimization.mdp` file. Helper functions can write `mdp` files for different types of simulation. We first set up the simulation using the `gen_tpr()` method, and finally we run the simulation using `gmx_run()`."
   ]
  },
  {
   "cell_type": "code",
   "execution_count": 17,
   "metadata": {
    "scrolled": true
   },
   "outputs": [
    {
     "name": "stdout",
     "output_type": "stream",
     "text": [
      "gmx grompp -c conf_solv_ions.gro -p topol.top -f data/mdp/minim.mdp -o data/minim.tpr -r conf_solv_ions.gro\n"
     ]
    }
   ],
   "source": [
    "minim = launcher.Launcher(alaTB)\n",
    "minim.gen_tpr(mdp='data/mdp/minim.mdp', tpr='data/minim.tpr')"
   ]
  },
  {
   "cell_type": "code",
   "execution_count": null,
   "metadata": {},
   "outputs": [
    {
     "name": "stdout",
     "output_type": "stream",
     "text": [
      "gmx mdrun -v -s data/minim.tpr -deffnm data/minim\n"
     ]
    }
   ],
   "source": [
    "minim.gmx_run(out=\"data/minim\")"
   ]
  },
  {
   "cell_type": "markdown",
   "metadata": {},
   "source": [
    "Each object of the `Launcher` class is aware of its output, so you can examine what went on in the simulation."
   ]
  },
  {
   "cell_type": "code",
   "execution_count": null,
   "metadata": {},
   "outputs": [],
   "source": [
    "print(minim.error.decode(encoding='utf-8'))"
   ]
  },
  {
   "cell_type": "code",
   "execution_count": null,
   "metadata": {},
   "outputs": [],
   "source": [
    "minim.out"
   ]
  },
  {
   "cell_type": "markdown",
   "metadata": {},
   "source": [
    "We can also access the GMX tools to calculate stuff, like in the case of the potential energy which we are minimizing in this calculation."
   ]
  },
  {
   "cell_type": "code",
   "execution_count": null,
   "metadata": {},
   "outputs": [],
   "source": [
    "os.system(\"gmx energy -f %s.edr -o energy_mini.xvg <<EOF\\n9\\nEOF\"%minim.out)\n",
    "\n",
    "emin = np.loadtxt(\"energy_mini.xvg\", comments=[\"#\", \"@\"])\n",
    "fig, ax = plt.subplots()\n",
    "ax.plot(emin[:,0], emin[:,1])\n",
    "ax.set_xlabel('Step')\n",
    "ax.set_ylabel('E (kJ/mol)')\n",
    "plt.tight_layout()"
   ]
  },
  {
   "cell_type": "markdown",
   "metadata": {},
   "source": [
    "After the minimization we run two other simulations, one in the NVT ensemble at the temperature of interest with position restraints on the protein, allowing for the solvent to equilibrate."
   ]
  },
  {
   "cell_type": "code",
   "execution_count": null,
   "metadata": {},
   "outputs": [],
   "source": [
    "alaTB_min = copy.deepcopy(minim.system)"
   ]
  },
  {
   "cell_type": "code",
   "execution_count": null,
   "metadata": {},
   "outputs": [],
   "source": [
    "posre = launcher.Launcher(alaTB_min)\n",
    "posre.gen_tpr(mdp='data/mdp/nvt_posre.mdp', tpr='data/posre.tpr')"
   ]
  },
  {
   "cell_type": "code",
   "execution_count": null,
   "metadata": {},
   "outputs": [],
   "source": [
    "posre.gmx_run(out=\"data/posre\")"
   ]
  },
  {
   "cell_type": "code",
   "execution_count": null,
   "metadata": {},
   "outputs": [],
   "source": [
    "posre.system.gro"
   ]
  },
  {
   "cell_type": "code",
   "execution_count": null,
   "metadata": {},
   "outputs": [],
   "source": [
    "print(posre.error.decode(encoding='utf-8'))"
   ]
  },
  {
   "cell_type": "code",
   "execution_count": null,
   "metadata": {},
   "outputs": [],
   "source": [
    "posre.system.gro"
   ]
  },
  {
   "cell_type": "code",
   "execution_count": null,
   "metadata": {},
   "outputs": [],
   "source": [
    "os.system(\"gmx energy -f %s.edr -o posre_temp.xvg <<EOF\\n15\\nEOF\"%posre.out)\n",
    "\n",
    "temp = np.loadtxt(\"posre_temp.xvg\", comments=[\"#\", \"@\"])\n",
    "fig, ax = plt.subplots()\n",
    "ax.plot(temp[:,0], temp[:,1])\n",
    "ax.set_xlabel('Time (ps)')\n",
    "ax.set_ylabel('T (K)')\n",
    "plt.tight_layout()"
   ]
  },
  {
   "cell_type": "markdown",
   "metadata": {},
   "source": [
    "The final step in the equilibration is a simulation in the NPT ensemble to converge the box volume. We repeat the same process of generating an instance of `Launcher` that uses as first step the `gro` file from the last simulation."
   ]
  },
  {
   "cell_type": "code",
   "execution_count": null,
   "metadata": {},
   "outputs": [],
   "source": [
    "alaTB_posre = copy.deepcopy(posre.system)\n",
    "npt = launcher.Launcher(alaTB_posre)"
   ]
  },
  {
   "cell_type": "code",
   "execution_count": null,
   "metadata": {},
   "outputs": [],
   "source": [
    "npt.gen_tpr(mdp='data/mdp/npt.mdp', tpr='data/npt.tpr')"
   ]
  }
 ],
 "metadata": {
  "kernelspec": {
   "display_name": "Python 3",
   "language": "python",
   "name": "python3"
  },
  "language_info": {
   "codemirror_mode": {
    "name": "ipython",
    "version": 3
   },
   "file_extension": ".py",
   "mimetype": "text/x-python",
   "name": "python",
   "nbconvert_exporter": "python",
   "pygments_lexer": "ipython3",
   "version": "3.7.3"
  }
 },
 "nbformat": 4,
 "nbformat_minor": 4
}
